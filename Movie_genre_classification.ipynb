{
  "nbformat": 4,
  "nbformat_minor": 0,
  "metadata": {
    "colab": {
      "provenance": [],
      "gpuType": "T4",
      "authorship_tag": "ABX9TyMVmusEGQTiTIjb6UqTW9Q2",
      "include_colab_link": true
    },
    "kernelspec": {
      "name": "python3",
      "display_name": "Python 3"
    },
    "language_info": {
      "name": "python"
    }
  },
  "cells": [
    {
      "cell_type": "markdown",
      "metadata": {
        "id": "view-in-github",
        "colab_type": "text"
      },
      "source": [
        "<a href=\"https://colab.research.google.com/github/AbhayKaushik-ml/CODSOFT/blob/main/Movie_genre_classification.ipynb\" target=\"_parent\"><img src=\"https://colab.research.google.com/assets/colab-badge.svg\" alt=\"Open In Colab\"/></a>"
      ]
    },
    {
      "cell_type": "markdown",
      "source": [
        "Importing libraries"
      ],
      "metadata": {
        "id": "RcDH0cpdGwg_"
      }
    },
    {
      "cell_type": "code",
      "execution_count": 10,
      "metadata": {
        "id": "fQ0VUj-aGBh7"
      },
      "outputs": [],
      "source": [
        "import pandas as pd\n",
        "import matplotlib.pyplot as plt\n",
        "import seaborn as sns\n",
        "from sklearn.feature_extraction.text import TfidfVectorizer\n",
        "from sklearn.model_selection import train_test_split\n",
        "from sklearn.naive_bayes import MultinomialNB\n",
        "from sklearn.metrics import accuracy_score, classification_report"
      ]
    },
    {
      "cell_type": "markdown",
      "source": [
        "Loading Dataset"
      ],
      "metadata": {
        "id": "PgGk37lcHkSG"
      }
    },
    {
      "cell_type": "code",
      "source": [
        "path_train = \"/content/train_data.txt\"\n",
        "data_train = pd.read_csv(path_train, sep=':::', names=['Title', 'Genre', 'Description'], engine='python')"
      ],
      "metadata": {
        "id": "hmA_wLJsHrI0"
      },
      "execution_count": 5,
      "outputs": []
    },
    {
      "cell_type": "code",
      "source": [
        "print(data_train.describe())"
      ],
      "metadata": {
        "colab": {
          "base_uri": "https://localhost:8080/"
        },
        "id": "EYLKKqe6JAou",
        "outputId": "e7650a9f-9889-4971-f5f7-b6401eee489d"
      },
      "execution_count": 6,
      "outputs": [
        {
          "output_type": "stream",
          "name": "stdout",
          "text": [
            "                                 Title    Genre  \\\n",
            "count                            16015    16015   \n",
            "unique                           16015       27   \n",
            "top      Oscar et la dame rose (2009)    drama    \n",
            "freq                                 1     3992   \n",
            "\n",
            "                                              Description  \n",
            "count                                               16015  \n",
            "unique                                              16000  \n",
            "top      Grammy - music award of the American academy ...  \n",
            "freq                                                    3  \n"
          ]
        }
      ]
    },
    {
      "cell_type": "code",
      "source": [
        "print(data_train.isnull().sum())"
      ],
      "metadata": {
        "colab": {
          "base_uri": "https://localhost:8080/"
        },
        "id": "JS3bg-pSKiC0",
        "outputId": "1aa715aa-879d-4760-b0b6-abd0cdbe9a65"
      },
      "execution_count": 7,
      "outputs": [
        {
          "output_type": "stream",
          "name": "stdout",
          "text": [
            "Title          0\n",
            "Genre          0\n",
            "Description    0\n",
            "dtype: int64\n"
          ]
        }
      ]
    },
    {
      "cell_type": "markdown",
      "source": [
        "Loading Test Data"
      ],
      "metadata": {
        "id": "7MjeaV7KKxIk"
      }
    },
    {
      "cell_type": "code",
      "source": [
        "path_test = \"/content/test_data.txt\"\n",
        "data_test = pd.read_csv(path_test, sep=':::', names=['Id', 'Title', 'Description'], engine='python')\n",
        "data_test.head()"
      ],
      "metadata": {
        "colab": {
          "base_uri": "https://localhost:8080/",
          "height": 206
        },
        "id": "rafuTifRK0_5",
        "outputId": "b7bb71f8-b265-4173-f690-ca8885a54e53"
      },
      "execution_count": 8,
      "outputs": [
        {
          "output_type": "execute_result",
          "data": {
            "text/plain": [
              "   Id                          Title  \\\n",
              "0   1          Edgar's Lunch (1998)    \n",
              "1   2      La guerra de papá (1977)    \n",
              "2   3   Off the Beaten Track (2010)    \n",
              "3   4        Meu Amigo Hindu (2015)    \n",
              "4   5             Er nu zhai (1955)    \n",
              "\n",
              "                                         Description  \n",
              "0   L.R. Brane loves his life - his car, his apar...  \n",
              "1   Spain, March 1964: Quico is a very naughty ch...  \n",
              "2   One year in the life of Albin and his family ...  \n",
              "3   His father has died, he hasn't spoken with hi...  \n",
              "4   Before he was known internationally as a mart...  "
            ],
            "text/html": [
              "\n",
              "  <div id=\"df-3d9b10cb-10b3-4695-a4f2-4f97b11a05b7\" class=\"colab-df-container\">\n",
              "    <div>\n",
              "<style scoped>\n",
              "    .dataframe tbody tr th:only-of-type {\n",
              "        vertical-align: middle;\n",
              "    }\n",
              "\n",
              "    .dataframe tbody tr th {\n",
              "        vertical-align: top;\n",
              "    }\n",
              "\n",
              "    .dataframe thead th {\n",
              "        text-align: right;\n",
              "    }\n",
              "</style>\n",
              "<table border=\"1\" class=\"dataframe\">\n",
              "  <thead>\n",
              "    <tr style=\"text-align: right;\">\n",
              "      <th></th>\n",
              "      <th>Id</th>\n",
              "      <th>Title</th>\n",
              "      <th>Description</th>\n",
              "    </tr>\n",
              "  </thead>\n",
              "  <tbody>\n",
              "    <tr>\n",
              "      <th>0</th>\n",
              "      <td>1</td>\n",
              "      <td>Edgar's Lunch (1998)</td>\n",
              "      <td>L.R. Brane loves his life - his car, his apar...</td>\n",
              "    </tr>\n",
              "    <tr>\n",
              "      <th>1</th>\n",
              "      <td>2</td>\n",
              "      <td>La guerra de papá (1977)</td>\n",
              "      <td>Spain, March 1964: Quico is a very naughty ch...</td>\n",
              "    </tr>\n",
              "    <tr>\n",
              "      <th>2</th>\n",
              "      <td>3</td>\n",
              "      <td>Off the Beaten Track (2010)</td>\n",
              "      <td>One year in the life of Albin and his family ...</td>\n",
              "    </tr>\n",
              "    <tr>\n",
              "      <th>3</th>\n",
              "      <td>4</td>\n",
              "      <td>Meu Amigo Hindu (2015)</td>\n",
              "      <td>His father has died, he hasn't spoken with hi...</td>\n",
              "    </tr>\n",
              "    <tr>\n",
              "      <th>4</th>\n",
              "      <td>5</td>\n",
              "      <td>Er nu zhai (1955)</td>\n",
              "      <td>Before he was known internationally as a mart...</td>\n",
              "    </tr>\n",
              "  </tbody>\n",
              "</table>\n",
              "</div>\n",
              "    <div class=\"colab-df-buttons\">\n",
              "\n",
              "  <div class=\"colab-df-container\">\n",
              "    <button class=\"colab-df-convert\" onclick=\"convertToInteractive('df-3d9b10cb-10b3-4695-a4f2-4f97b11a05b7')\"\n",
              "            title=\"Convert this dataframe to an interactive table.\"\n",
              "            style=\"display:none;\">\n",
              "\n",
              "  <svg xmlns=\"http://www.w3.org/2000/svg\" height=\"24px\" viewBox=\"0 -960 960 960\">\n",
              "    <path d=\"M120-120v-720h720v720H120Zm60-500h600v-160H180v160Zm220 220h160v-160H400v160Zm0 220h160v-160H400v160ZM180-400h160v-160H180v160Zm440 0h160v-160H620v160ZM180-180h160v-160H180v160Zm440 0h160v-160H620v160Z\"/>\n",
              "  </svg>\n",
              "    </button>\n",
              "\n",
              "  <style>\n",
              "    .colab-df-container {\n",
              "      display:flex;\n",
              "      gap: 12px;\n",
              "    }\n",
              "\n",
              "    .colab-df-convert {\n",
              "      background-color: #E8F0FE;\n",
              "      border: none;\n",
              "      border-radius: 50%;\n",
              "      cursor: pointer;\n",
              "      display: none;\n",
              "      fill: #1967D2;\n",
              "      height: 32px;\n",
              "      padding: 0 0 0 0;\n",
              "      width: 32px;\n",
              "    }\n",
              "\n",
              "    .colab-df-convert:hover {\n",
              "      background-color: #E2EBFA;\n",
              "      box-shadow: 0px 1px 2px rgba(60, 64, 67, 0.3), 0px 1px 3px 1px rgba(60, 64, 67, 0.15);\n",
              "      fill: #174EA6;\n",
              "    }\n",
              "\n",
              "    .colab-df-buttons div {\n",
              "      margin-bottom: 4px;\n",
              "    }\n",
              "\n",
              "    [theme=dark] .colab-df-convert {\n",
              "      background-color: #3B4455;\n",
              "      fill: #D2E3FC;\n",
              "    }\n",
              "\n",
              "    [theme=dark] .colab-df-convert:hover {\n",
              "      background-color: #434B5C;\n",
              "      box-shadow: 0px 1px 3px 1px rgba(0, 0, 0, 0.15);\n",
              "      filter: drop-shadow(0px 1px 2px rgba(0, 0, 0, 0.3));\n",
              "      fill: #FFFFFF;\n",
              "    }\n",
              "  </style>\n",
              "\n",
              "    <script>\n",
              "      const buttonEl =\n",
              "        document.querySelector('#df-3d9b10cb-10b3-4695-a4f2-4f97b11a05b7 button.colab-df-convert');\n",
              "      buttonEl.style.display =\n",
              "        google.colab.kernel.accessAllowed ? 'block' : 'none';\n",
              "\n",
              "      async function convertToInteractive(key) {\n",
              "        const element = document.querySelector('#df-3d9b10cb-10b3-4695-a4f2-4f97b11a05b7');\n",
              "        const dataTable =\n",
              "          await google.colab.kernel.invokeFunction('convertToInteractive',\n",
              "                                                    [key], {});\n",
              "        if (!dataTable) return;\n",
              "\n",
              "        const docLinkHtml = 'Like what you see? Visit the ' +\n",
              "          '<a target=\"_blank\" href=https://colab.research.google.com/notebooks/data_table.ipynb>data table notebook</a>'\n",
              "          + ' to learn more about interactive tables.';\n",
              "        element.innerHTML = '';\n",
              "        dataTable['output_type'] = 'display_data';\n",
              "        await google.colab.output.renderOutput(dataTable, element);\n",
              "        const docLink = document.createElement('div');\n",
              "        docLink.innerHTML = docLinkHtml;\n",
              "        element.appendChild(docLink);\n",
              "      }\n",
              "    </script>\n",
              "  </div>\n",
              "\n",
              "\n",
              "<div id=\"df-e03f5e6f-d339-4578-803f-a21f6b0f5de2\">\n",
              "  <button class=\"colab-df-quickchart\" onclick=\"quickchart('df-e03f5e6f-d339-4578-803f-a21f6b0f5de2')\"\n",
              "            title=\"Suggest charts\"\n",
              "            style=\"display:none;\">\n",
              "\n",
              "<svg xmlns=\"http://www.w3.org/2000/svg\" height=\"24px\"viewBox=\"0 0 24 24\"\n",
              "     width=\"24px\">\n",
              "    <g>\n",
              "        <path d=\"M19 3H5c-1.1 0-2 .9-2 2v14c0 1.1.9 2 2 2h14c1.1 0 2-.9 2-2V5c0-1.1-.9-2-2-2zM9 17H7v-7h2v7zm4 0h-2V7h2v10zm4 0h-2v-4h2v4z\"/>\n",
              "    </g>\n",
              "</svg>\n",
              "  </button>\n",
              "\n",
              "<style>\n",
              "  .colab-df-quickchart {\n",
              "      --bg-color: #E8F0FE;\n",
              "      --fill-color: #1967D2;\n",
              "      --hover-bg-color: #E2EBFA;\n",
              "      --hover-fill-color: #174EA6;\n",
              "      --disabled-fill-color: #AAA;\n",
              "      --disabled-bg-color: #DDD;\n",
              "  }\n",
              "\n",
              "  [theme=dark] .colab-df-quickchart {\n",
              "      --bg-color: #3B4455;\n",
              "      --fill-color: #D2E3FC;\n",
              "      --hover-bg-color: #434B5C;\n",
              "      --hover-fill-color: #FFFFFF;\n",
              "      --disabled-bg-color: #3B4455;\n",
              "      --disabled-fill-color: #666;\n",
              "  }\n",
              "\n",
              "  .colab-df-quickchart {\n",
              "    background-color: var(--bg-color);\n",
              "    border: none;\n",
              "    border-radius: 50%;\n",
              "    cursor: pointer;\n",
              "    display: none;\n",
              "    fill: var(--fill-color);\n",
              "    height: 32px;\n",
              "    padding: 0;\n",
              "    width: 32px;\n",
              "  }\n",
              "\n",
              "  .colab-df-quickchart:hover {\n",
              "    background-color: var(--hover-bg-color);\n",
              "    box-shadow: 0 1px 2px rgba(60, 64, 67, 0.3), 0 1px 3px 1px rgba(60, 64, 67, 0.15);\n",
              "    fill: var(--button-hover-fill-color);\n",
              "  }\n",
              "\n",
              "  .colab-df-quickchart-complete:disabled,\n",
              "  .colab-df-quickchart-complete:disabled:hover {\n",
              "    background-color: var(--disabled-bg-color);\n",
              "    fill: var(--disabled-fill-color);\n",
              "    box-shadow: none;\n",
              "  }\n",
              "\n",
              "  .colab-df-spinner {\n",
              "    border: 2px solid var(--fill-color);\n",
              "    border-color: transparent;\n",
              "    border-bottom-color: var(--fill-color);\n",
              "    animation:\n",
              "      spin 1s steps(1) infinite;\n",
              "  }\n",
              "\n",
              "  @keyframes spin {\n",
              "    0% {\n",
              "      border-color: transparent;\n",
              "      border-bottom-color: var(--fill-color);\n",
              "      border-left-color: var(--fill-color);\n",
              "    }\n",
              "    20% {\n",
              "      border-color: transparent;\n",
              "      border-left-color: var(--fill-color);\n",
              "      border-top-color: var(--fill-color);\n",
              "    }\n",
              "    30% {\n",
              "      border-color: transparent;\n",
              "      border-left-color: var(--fill-color);\n",
              "      border-top-color: var(--fill-color);\n",
              "      border-right-color: var(--fill-color);\n",
              "    }\n",
              "    40% {\n",
              "      border-color: transparent;\n",
              "      border-right-color: var(--fill-color);\n",
              "      border-top-color: var(--fill-color);\n",
              "    }\n",
              "    60% {\n",
              "      border-color: transparent;\n",
              "      border-right-color: var(--fill-color);\n",
              "    }\n",
              "    80% {\n",
              "      border-color: transparent;\n",
              "      border-right-color: var(--fill-color);\n",
              "      border-bottom-color: var(--fill-color);\n",
              "    }\n",
              "    90% {\n",
              "      border-color: transparent;\n",
              "      border-bottom-color: var(--fill-color);\n",
              "    }\n",
              "  }\n",
              "</style>\n",
              "\n",
              "  <script>\n",
              "    async function quickchart(key) {\n",
              "      const quickchartButtonEl =\n",
              "        document.querySelector('#' + key + ' button');\n",
              "      quickchartButtonEl.disabled = true;  // To prevent multiple clicks.\n",
              "      quickchartButtonEl.classList.add('colab-df-spinner');\n",
              "      try {\n",
              "        const charts = await google.colab.kernel.invokeFunction(\n",
              "            'suggestCharts', [key], {});\n",
              "      } catch (error) {\n",
              "        console.error('Error during call to suggestCharts:', error);\n",
              "      }\n",
              "      quickchartButtonEl.classList.remove('colab-df-spinner');\n",
              "      quickchartButtonEl.classList.add('colab-df-quickchart-complete');\n",
              "    }\n",
              "    (() => {\n",
              "      let quickchartButtonEl =\n",
              "        document.querySelector('#df-e03f5e6f-d339-4578-803f-a21f6b0f5de2 button');\n",
              "      quickchartButtonEl.style.display =\n",
              "        google.colab.kernel.accessAllowed ? 'block' : 'none';\n",
              "    })();\n",
              "  </script>\n",
              "</div>\n",
              "\n",
              "    </div>\n",
              "  </div>\n"
            ],
            "application/vnd.google.colaboratory.intrinsic+json": {
              "type": "dataframe",
              "variable_name": "data_test",
              "summary": "{\n  \"name\": \"data_test\",\n  \"rows\": 52344,\n  \"fields\": [\n    {\n      \"column\": \"Id\",\n      \"properties\": {\n        \"dtype\": \"number\",\n        \"std\": 15110,\n        \"min\": 1,\n        \"max\": 52344,\n        \"num_unique_values\": 52344,\n        \"samples\": [\n          12476,\n          43749,\n          25983\n        ],\n        \"semantic_type\": \"\",\n        \"description\": \"\"\n      }\n    },\n    {\n      \"column\": \"Title\",\n      \"properties\": {\n        \"dtype\": \"string\",\n        \"num_unique_values\": 52344,\n        \"samples\": [\n          \" Scam of the Century: Bernie Madoff's Crime & Punishment (2008) \",\n          \" Johnny 2.0 (1997) \",\n          \" Justice Is Served (2016) \"\n        ],\n        \"semantic_type\": \"\",\n        \"description\": \"\"\n      }\n    },\n    {\n      \"column\": \"Description\",\n      \"properties\": {\n        \"dtype\": \"string\",\n        \"num_unique_values\": 52220,\n        \"samples\": [\n          \" When they decide they might as well be penniless husbands and wives as penniless campus sweethearts, three couples at a Midwestern university, against the advice of their friends, get married. Joe and Susie Tucker prove that two can live as cheap as one by setting up housekeeping in a trailer, and working at whatever odd jobs turn up. Slats and Jennifer Warwick marry because they can fight better under the same roof then when separated, and use Jennifer's allowance from home to pay for their groceries. John Gregory, a brilliant pre-med student, and his bride, Kay, are in the most serious situation. Kay's allowance is suddenly cut off by her unsympathetic step-mother, while the scholarship on which John is depending is threatened by his inability to do two jobs at once - study all day and work at night to support them. Kay, determined to prevent John from giving up college, takes a series of back-breaking jobs in order to give him time to study. She gets a job singing in a night club, but has to quit when the stork announces an imminent arrival. Her secret, being pregnant, helps her to make up her mind to go back home and leave John free to accept the offer of a professor who wants the promising student to work with him abroad.\",\n          \" One of the fundamental rights of humanity is the right to treat ourselves medically as we see fit and necessary. There are worldwide studies done on cannabis, yet our government is still sluggish in their acceptance. In the meantime, innocent people are being arrested and harassed because they choose to use cannabis to treat their ailment. This has to stop and the truth needs to be exposed. So I compiled some footage of the protest in front of Rona Ambrose's (Minister of Health) Office, and interviewed a few of those in support.\",\n          \" Dublin: Maura is a single mom, furniture repossessed, being evicted. For a fee, she's marrying Wilson, an African, facing deportation. Her nine-year old, Molly, thinks she's going to get a dad. Freddie, a bit of a compulsive, is remarrying Sophie, after divorce and recommitment; she's starved herself into her old wedding dress. Both bridal parties arrive at the same inn for receptions: Freddie and Maura's paths keep crossing, Sophie thinks the two are having an affair, immigration officers are stalking Wilson, and Molly's figuring out what's really up. Sophie's father threatens Freddie with bodily harm if anything goes wrong. Can it not?\"\n        ],\n        \"semantic_type\": \"\",\n        \"description\": \"\"\n      }\n    }\n  ]\n}"
            }
          },
          "metadata": {},
          "execution_count": 8
        }
      ]
    },
    {
      "cell_type": "markdown",
      "source": [
        "Text Vectorizarion using TF-IDF\n"
      ],
      "metadata": {
        "id": "6xNrhSlPP_yZ"
      }
    },
    {
      "cell_type": "code",
      "source": [
        "tfidf_vectorizer = TfidfVectorizer()\n",
        "\n",
        "# Perform vectorization on Description\n",
        "X = tfidf_vectorizer.fit_transform(data_train[\"Description\"])\n",
        "\n",
        "X_test = tfidf_vectorizer.transform(data_test[\"Description\"])"
      ],
      "metadata": {
        "id": "hlqo962FQG_j"
      },
      "execution_count": 21,
      "outputs": []
    },
    {
      "cell_type": "markdown",
      "source": [
        "Splitting Data for Training and validation"
      ],
      "metadata": {
        "id": "NBliwiZsSOhh"
      }
    },
    {
      "cell_type": "code",
      "source": [
        "\n",
        "y = data_train['Genre']\n",
        "X_train, X_val, y_train, y_val = train_test_split(X, y, test_size=0.2, random_state=42)\n",
        "\n",
        "# Create a Multinomial Naive Bayes classifier\n",
        "classifier = MultinomialNB()\n",
        "classifier.fit(X_train, y_train)\n",
        "\n",
        "# Predict the genres for the validation set\n",
        "y_pred = classifier.predict(X_val)\n",
        "\n",
        "# Evaluate the model\n",
        "accuracy = accuracy_score(y_val, y_pred)\n",
        "print(\"Validation Accuracy:\", accuracy)\n",
        "print(classification_report(y_val, y_pred))"
      ],
      "metadata": {
        "colab": {
          "base_uri": "https://localhost:8080/"
        },
        "id": "nhZwtoLrSOGe",
        "outputId": "3c8ca206-c169-45b3-d46a-ac3d6e3c87c7"
      },
      "execution_count": 13,
      "outputs": [
        {
          "output_type": "stream",
          "name": "stdout",
          "text": [
            "Validation Accuracy: 0.4339681548548236\n",
            "               precision    recall  f1-score   support\n",
            "\n",
            "      action        0.00      0.00      0.00        76\n",
            "       adult        0.00      0.00      0.00        31\n",
            "   adventure        0.00      0.00      0.00        50\n",
            "   animation        0.00      0.00      0.00        24\n",
            "   biography        0.00      0.00      0.00        16\n",
            "      comedy        0.80      0.03      0.05       446\n",
            "       crime        0.00      0.00      0.00        30\n",
            " documentary        0.54      0.88      0.67       770\n",
            "       drama        0.36      0.87      0.51       802\n",
            "      family        0.00      0.00      0.00        52\n",
            "     fantasy        0.00      0.00      0.00        24\n",
            "   game-show        0.00      0.00      0.00        15\n",
            "     history        0.00      0.00      0.00        15\n",
            "      horror        0.00      0.00      0.00       138\n",
            "       music        0.00      0.00      0.00        41\n",
            "     musical        0.00      0.00      0.00        10\n",
            "     mystery        0.00      0.00      0.00        11\n",
            "        news        0.00      0.00      0.00        12\n",
            "  reality-tv        0.00      0.00      0.00        51\n",
            "     romance        0.00      0.00      0.00        40\n",
            "      sci-fi        0.00      0.00      0.00        42\n",
            "       short        0.00      0.00      0.00       301\n",
            "       sport        0.00      0.00      0.00        23\n",
            "   talk-show        0.00      0.00      0.00        19\n",
            "    thriller        0.00      0.00      0.00       103\n",
            "         war        0.00      0.00      0.00         7\n",
            "     western        0.00      0.00      0.00        54\n",
            "\n",
            "     accuracy                           0.43      3203\n",
            "    macro avg       0.06      0.07      0.05      3203\n",
            " weighted avg       0.33      0.43      0.30      3203\n",
            "\n"
          ]
        },
        {
          "output_type": "stream",
          "name": "stderr",
          "text": [
            "/usr/local/lib/python3.10/dist-packages/sklearn/metrics/_classification.py:1471: UndefinedMetricWarning: Precision and F-score are ill-defined and being set to 0.0 in labels with no predicted samples. Use `zero_division` parameter to control this behavior.\n",
            "  _warn_prf(average, modifier, msg_start, len(result))\n",
            "/usr/local/lib/python3.10/dist-packages/sklearn/metrics/_classification.py:1471: UndefinedMetricWarning: Precision and F-score are ill-defined and being set to 0.0 in labels with no predicted samples. Use `zero_division` parameter to control this behavior.\n",
            "  _warn_prf(average, modifier, msg_start, len(result))\n",
            "/usr/local/lib/python3.10/dist-packages/sklearn/metrics/_classification.py:1471: UndefinedMetricWarning: Precision and F-score are ill-defined and being set to 0.0 in labels with no predicted samples. Use `zero_division` parameter to control this behavior.\n",
            "  _warn_prf(average, modifier, msg_start, len(result))\n"
          ]
        }
      ]
    },
    {
      "cell_type": "markdown",
      "source": [
        "Performig prediction on test Data"
      ],
      "metadata": {
        "id": "SdODEOCxUdFp"
      }
    },
    {
      "cell_type": "code",
      "source": [
        "X_test_predictions = classifier.predict(X_test)\n",
        "data_test['Predicted_Genre'] = X_test_predictions"
      ],
      "metadata": {
        "id": "uF5gsDygUghS"
      },
      "execution_count": 16,
      "outputs": []
    },
    {
      "cell_type": "code",
      "source": [
        "# Display data_test with genre prediction on test data\n",
        "print(data_test)"
      ],
      "metadata": {
        "colab": {
          "base_uri": "https://localhost:8080/"
        },
        "id": "82MCR2O5Uyph",
        "outputId": "d3081c30-e4ec-4e40-c0ec-6df3ff3d8bc0"
      },
      "execution_count": 19,
      "outputs": [
        {
          "output_type": "stream",
          "name": "stdout",
          "text": [
            "          Id                                   Title  \\\n",
            "0          1                   Edgar's Lunch (1998)    \n",
            "1          2               La guerra de papá (1977)    \n",
            "2          3            Off the Beaten Track (2010)    \n",
            "3          4                 Meu Amigo Hindu (2015)    \n",
            "4          5                      Er nu zhai (1955)    \n",
            "...      ...                                     ...   \n",
            "52339  52340                         Fridays (2009)    \n",
            "52340  52341              Undeva la Palilula (2012)    \n",
            "52341  52342                            Oass (2012)    \n",
            "52342  52343   \"Married to Medicine Houston\" (2016)    \n",
            "52343  52344          The Admirable Crichton (1957)    \n",
            "\n",
            "                                             Description Predicted_Genre  \n",
            "0       L.R. Brane loves his life - his car, his apar...          drama   \n",
            "1       Spain, March 1964: Quico is a very naughty ch...          drama   \n",
            "2       One year in the life of Albin and his family ...    documentary   \n",
            "3       His father has died, he hasn't spoken with hi...          drama   \n",
            "4       Before he was known internationally as a mart...          drama   \n",
            "...                                                  ...             ...  \n",
            "52339   Reza, an Iranian man, visits his daughter and...          drama   \n",
            "52340   \"Somewhere in Palilula\" tells the story of Se...          drama   \n",
            "52341   Eyes forward, Kiku hurtles down the street. A...          drama   \n",
            "52342   The hardworking doctors and doctors wives str...          drama   \n",
            "52343   Lord Loam has modern ideas about his househol...          drama   \n",
            "\n",
            "[52344 rows x 4 columns]\n"
          ]
        }
      ]
    }
  ]
}